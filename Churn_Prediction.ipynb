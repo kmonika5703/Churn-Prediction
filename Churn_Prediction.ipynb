{
  "nbformat": 4,
  "nbformat_minor": 0,
  "metadata": {
    "colab": {
      "provenance": []
    },
    "kernelspec": {
      "name": "python3",
      "display_name": "Python 3"
    },
    "language_info": {
      "name": "python"
    }
  },
  "cells": [
    {
      "cell_type": "code",
      "source": [
        "import pandas as pd\n",
        "from sklearn.model_selection import train_test_split\n",
        "from sklearn.preprocessing import StandardScaler, LabelEncoder\n",
        "from sklearn.ensemble import RandomForestClassifier\n",
        "from sklearn.metrics import classification_report, accuracy_score, roc_auc_score"
      ],
      "metadata": {
        "id": "taosYY9Hgd5U"
      },
      "execution_count": 23,
      "outputs": []
    },
    {
      "cell_type": "code",
      "source": [
        "file_paths = {\n",
        "    \"telecom_churn\": \"telecom_churn.csv\",\n",
        "    \"orange_telecom\": \"orange_telecom.csv\",\n",
        "    \"internet_service_churn\": \"internet_service_churn.csv\",\n",
        "    \"bank_churn\": \"Bank_churn.csv\"\n",
        "}"
      ],
      "metadata": {
        "id": "YaSCwDdOgd2b"
      },
      "execution_count": 24,
      "outputs": []
    },
    {
      "cell_type": "code",
      "source": [
        "telecom_churn = pd.read_csv(file_paths[\"telecom_churn\"])\n",
        "orange_telecom = pd.read_csv(file_paths[\"orange_telecom\"])\n",
        "internet_service_churn = pd.read_csv(file_paths[\"internet_service_churn\"])\n",
        "bank_churn = pd.read_csv(file_paths[\"bank_churn\"])"
      ],
      "metadata": {
        "id": "JNZwSsQygdw9"
      },
      "execution_count": 25,
      "outputs": []
    },
    {
      "cell_type": "code",
      "source": [
        "telecom_churn_info = telecom_churn.head(), telecom_churn.columns.tolist()\n",
        "orange_telecom_info = orange_telecom.head(), orange_telecom.columns.tolist()\n",
        "internet_service_churn_info = internet_service_churn.head(), internet_service_churn.columns.tolist()\n",
        "bank_churn_info = bank_churn.head(), bank_churn.columns.tolist()"
      ],
      "metadata": {
        "id": "-y1VYWGcg3DG"
      },
      "execution_count": 26,
      "outputs": []
    },
    {
      "cell_type": "code",
      "source": [
        "telecom_churn_info"
      ],
      "metadata": {
        "colab": {
          "base_uri": "https://localhost:8080/"
        },
        "id": "MKCxx3VWg7SL",
        "outputId": "0fd2cd98-5ad8-4cd9-dfbb-0b577988b98f"
      },
      "execution_count": 28,
      "outputs": [
        {
          "output_type": "execute_result",
          "data": {
            "text/plain": [
              "(   churn  accountweeks  contractrenewal  dataplan  datausage  custservcalls  \\\n",
              " 0      0           128                1         1        2.7              1   \n",
              " 1      0           107                1         1        3.7              1   \n",
              " 2      0           137                1         0        0.0              0   \n",
              " 3      0            84                0         0        0.0              2   \n",
              " 4      0            75                0         0        0.0              3   \n",
              " \n",
              "    daymins  daycalls  monthlycharge  overagefee  roammins  \n",
              " 0    265.1       110           89.0        9.87      10.0  \n",
              " 1    161.6       123           82.0        9.78      13.7  \n",
              " 2    243.4       114           52.0        6.06      12.2  \n",
              " 3    299.4        71           57.0        3.10       6.6  \n",
              " 4    166.7       113           41.0        7.42      10.1  ,\n",
              " ['churn',\n",
              "  'accountweeks',\n",
              "  'contractrenewal',\n",
              "  'dataplan',\n",
              "  'datausage',\n",
              "  'custservcalls',\n",
              "  'daymins',\n",
              "  'daycalls',\n",
              "  'monthlycharge',\n",
              "  'overagefee',\n",
              "  'roammins'])"
            ]
          },
          "metadata": {},
          "execution_count": 28
        }
      ]
    },
    {
      "cell_type": "code",
      "source": [
        "orange_telecom_info"
      ],
      "metadata": {
        "colab": {
          "base_uri": "https://localhost:8080/"
        },
        "id": "ffO6zE6IhAU7",
        "outputId": "2196ed23-b3c3-42af-eb11-a6e99cfbc972"
      },
      "execution_count": 29,
      "outputs": [
        {
          "output_type": "execute_result",
          "data": {
            "text/plain": [
              "(  state  account length  area code international plan voice mail plan  \\\n",
              " 0    LA             117        408                 No              No   \n",
              " 1    IN              65        415                 No              No   \n",
              " 2    NY             161        415                 No              No   \n",
              " 3    SC             111        415                 No              No   \n",
              " 4    HI              49        510                 No              No   \n",
              " \n",
              "    number vmail messages  total day minutes  total day calls  \\\n",
              " 0                      0              184.5               97   \n",
              " 1                      0              129.1              137   \n",
              " 2                      0              332.9               67   \n",
              " 3                      0              110.4              103   \n",
              " 4                      0              119.3              117   \n",
              " \n",
              "    total day charge  total eve minutes  total eve calls  total eve charge  \\\n",
              " 0             31.37              351.6               80             29.89   \n",
              " 1             21.95              228.5               83             19.42   \n",
              " 2             56.59              317.8               97             27.01   \n",
              " 3             18.77              137.3              102             11.67   \n",
              " 4             20.28              215.1              109             18.28   \n",
              " \n",
              "    total night minutes  total night calls  total night charge  \\\n",
              " 0                215.8                 90                9.71   \n",
              " 1                208.8                111                9.40   \n",
              " 2                160.6                128                7.23   \n",
              " 3                189.6                105                8.53   \n",
              " 4                178.7                 90                8.04   \n",
              " \n",
              "    total intl minutes  total intl calls  total intl charge  \\\n",
              " 0                 8.7                 4               2.35   \n",
              " 1                12.7                 6               3.43   \n",
              " 2                 5.4                 9               1.46   \n",
              " 3                 7.7                 6               2.08   \n",
              " 4                11.1                 1               3.00   \n",
              " \n",
              "    customer service calls  churn  \n",
              " 0                       1      0  \n",
              " 1                       4      1  \n",
              " 2                       4      1  \n",
              " 3                       2      0  \n",
              " 4                       1      0  ,\n",
              " ['state',\n",
              "  'account length',\n",
              "  'area code',\n",
              "  'international plan',\n",
              "  'voice mail plan',\n",
              "  'number vmail messages',\n",
              "  'total day minutes',\n",
              "  'total day calls',\n",
              "  'total day charge',\n",
              "  'total eve minutes',\n",
              "  'total eve calls',\n",
              "  'total eve charge',\n",
              "  'total night minutes',\n",
              "  'total night calls',\n",
              "  'total night charge',\n",
              "  'total intl minutes',\n",
              "  'total intl calls',\n",
              "  'total intl charge',\n",
              "  'customer service calls',\n",
              "  'churn'])"
            ]
          },
          "metadata": {},
          "execution_count": 29
        }
      ]
    },
    {
      "cell_type": "code",
      "source": [
        "internet_service_churn_info"
      ],
      "metadata": {
        "colab": {
          "base_uri": "https://localhost:8080/"
        },
        "id": "6jQxJe-dhCxL",
        "outputId": "4e6f2493-3a4c-4700-b4ae-78673c136575"
      },
      "execution_count": 30,
      "outputs": [
        {
          "output_type": "execute_result",
          "data": {
            "text/plain": [
              "(   id  is_tv_subscriber  is_movie_package_subscriber  subscription_age  \\\n",
              " 0  15                 1                            0             11.95   \n",
              " 1  18                 0                            0              8.22   \n",
              " 2  23                 1                            0              8.91   \n",
              " 3  27                 0                            0              6.87   \n",
              " 4  34                 0                            0              6.39   \n",
              " \n",
              "    bill_avg  reamining_contract  service_failure_count  download_avg  \\\n",
              " 0        25                0.14                      0           8.4   \n",
              " 1         0                 NaN                      0           0.0   \n",
              " 2        16                0.00                      0          13.7   \n",
              " 3        21                 NaN                      1           0.0   \n",
              " 4         0                 NaN                      0           0.0   \n",
              " \n",
              "    upload_avg  download_over_limit  churn  \n",
              " 0         2.3                    0      0  \n",
              " 1         0.0                    0      1  \n",
              " 2         0.9                    0      1  \n",
              " 3         0.0                    0      1  \n",
              " 4         0.0                    0      1  ,\n",
              " ['id',\n",
              "  'is_tv_subscriber',\n",
              "  'is_movie_package_subscriber',\n",
              "  'subscription_age',\n",
              "  'bill_avg',\n",
              "  'reamining_contract',\n",
              "  'service_failure_count',\n",
              "  'download_avg',\n",
              "  'upload_avg',\n",
              "  'download_over_limit',\n",
              "  'churn'])"
            ]
          },
          "metadata": {},
          "execution_count": 30
        }
      ]
    },
    {
      "cell_type": "code",
      "source": [
        "bank_churn_info"
      ],
      "metadata": {
        "colab": {
          "base_uri": "https://localhost:8080/"
        },
        "id": "1BnCFkLXhFic",
        "outputId": "7fd2f7b3-979e-4ff2-c113-61d35ae08fdc"
      },
      "execution_count": 31,
      "outputs": [
        {
          "output_type": "execute_result",
          "data": {
            "text/plain": [
              "(   rownumber  customerid   surname  creditscore geography  gender  age  \\\n",
              " 0          1    15634602  Hargrave          619    France  Female   42   \n",
              " 1          2    15647311      Hill          608     Spain  Female   41   \n",
              " 2          3    15619304      Onio          502    France  Female   42   \n",
              " 3          4    15701354      Boni          699    France  Female   39   \n",
              " 4          5    15737888  Mitchell          850     Spain  Female   43   \n",
              " \n",
              "    tenure    balance  numofproducts  hascrcard  isactivemember  \\\n",
              " 0       2       0.00              1          1               1   \n",
              " 1       1   83807.86              1          0               1   \n",
              " 2       8  159660.80              3          1               0   \n",
              " 3       1       0.00              2          0               0   \n",
              " 4       2  125510.82              1          1               1   \n",
              " \n",
              "    estimatedsalary  churn  \n",
              " 0        101348.88      1  \n",
              " 1        112542.58      0  \n",
              " 2        113931.57      1  \n",
              " 3         93826.63      0  \n",
              " 4         79084.10      0  ,\n",
              " ['rownumber',\n",
              "  'customerid',\n",
              "  'surname',\n",
              "  'creditscore',\n",
              "  'geography',\n",
              "  'gender',\n",
              "  'age',\n",
              "  'tenure',\n",
              "  'balance',\n",
              "  'numofproducts',\n",
              "  'hascrcard',\n",
              "  'isactivemember',\n",
              "  'estimatedsalary',\n",
              "  'churn'])"
            ]
          },
          "metadata": {},
          "execution_count": 31
        }
      ]
    },
    {
      "cell_type": "code",
      "source": [
        "def preprocess_data(df, target_col):\n",
        "\n",
        "    #Dropping the unnecessary columns\n",
        "    unnecessary_cols = ['rownumber', 'customerid', 'surname', 'id', 'number', 'state'] # Identifiers or non-numeric\n",
        "    df = df.drop(columns=[col for col in unnecessary_cols if col in df.columns], errors='ignore')\n",
        "\n",
        "    # Handle missing values with median value\n",
        "    df = df.fillna(df.median(numeric_only=True))\n",
        "\n",
        "    # Encode categorical variables\n",
        "    categorical_cols = df.select_dtypes(include=['object', 'category']).columns\n",
        "    for col in categorical_cols:\n",
        "        df[col] = LabelEncoder().fit_transform(df[col].astype(str))\n",
        "\n",
        "    # Separate features and target variable\n",
        "    X = df.drop(columns=[target_col])\n",
        "    y = df[target_col]\n",
        "\n",
        "    # Scale features\n",
        "    scaler = StandardScaler()\n",
        "    X_scaled = scaler.fit_transform(X)\n",
        "\n",
        "    return X_scaled, y"
      ],
      "metadata": {
        "id": "IpYAb7wbgdt1"
      },
      "execution_count": 32,
      "outputs": []
    },
    {
      "cell_type": "code",
      "source": [
        "datasets = {\n",
        "    \"telecom_churn\": preprocess_data(telecom_churn, 'churn'),\n",
        "    \"orange_telecom\": preprocess_data(orange_telecom, 'churn'),\n",
        "    \"internet_service_churn\": preprocess_data(internet_service_churn, 'churn'),\n",
        "    \"bank_churn\": preprocess_data(bank_churn, 'churn')\n",
        "}"
      ],
      "metadata": {
        "id": "AE2h7ptVgdq-"
      },
      "execution_count": 33,
      "outputs": []
    },
    {
      "cell_type": "markdown",
      "source": [
        "**Random Forest Model**"
      ],
      "metadata": {
        "id": "kMxWGh6GhXKr"
      }
    },
    {
      "cell_type": "code",
      "source": [
        "rf_model = RandomForestClassifier(random_state=42)"
      ],
      "metadata": {
        "id": "t9gsB8h2hWML"
      },
      "execution_count": 34,
      "outputs": []
    },
    {
      "cell_type": "code",
      "source": [
        "results = {}\n",
        "for name, (X, y) in datasets.items():\n",
        "    # Split data into training and testing sets\n",
        "    X_train, X_test, y_train, y_test = train_test_split(X, y, test_size=0.3, random_state=42)\n",
        "\n",
        "    # Train the model\n",
        "    rf_model.fit(X_train, y_train)\n",
        "\n",
        "    # Make predictions\n",
        "    y_pred = rf_model.predict(X_test)\n",
        "    y_proba = rf_model.predict_proba(X_test)[:, 1]\n",
        "\n",
        "    # Evaluate the model\n",
        "    accuracy = accuracy_score(y_test, y_pred)\n",
        "    roc_auc = roc_auc_score(y_test, y_proba)\n",
        "    report = classification_report(y_test, y_pred, zero_division=0)\n",
        "\n",
        "    results[name] = {\n",
        "        \"accuracy\": accuracy,\n",
        "        \"roc_auc\": roc_auc,\n",
        "        \"classification_report\": report\n",
        "    }"
      ],
      "metadata": {
        "id": "e8t7BHbngdoL"
      },
      "execution_count": 35,
      "outputs": []
    },
    {
      "cell_type": "code",
      "source": [
        "for dataset_name, metrics in results.items():\n",
        "    print(f\"Results for {dataset_name}:\\n\")\n",
        "    print(f\"Accuracy: {metrics['accuracy']:.2f}\")\n",
        "    print(f\"ROC AUC: {metrics['roc_auc']:.2f}\")\n",
        "    print(\"Classification Report:\\n\", metrics['classification_report'])\n",
        "    print(\"\\n\" + \"=\"*50 + \"\\n\")"
      ],
      "metadata": {
        "colab": {
          "base_uri": "https://localhost:8080/"
        },
        "id": "7OoiOx4SheVK",
        "outputId": "633641cf-d524-4785-f80e-665d954a22f2"
      },
      "execution_count": 36,
      "outputs": [
        {
          "output_type": "stream",
          "name": "stdout",
          "text": [
            "Results for telecom_churn:\n",
            "\n",
            "Accuracy: 0.94\n",
            "ROC AUC: 0.93\n",
            "Classification Report:\n",
            "               precision    recall  f1-score   support\n",
            "\n",
            "           0       0.94      0.99      0.96       857\n",
            "           1       0.90      0.62      0.74       143\n",
            "\n",
            "    accuracy                           0.94      1000\n",
            "   macro avg       0.92      0.81      0.85      1000\n",
            "weighted avg       0.93      0.94      0.93      1000\n",
            "\n",
            "\n",
            "==================================================\n",
            "\n",
            "Results for orange_telecom:\n",
            "\n",
            "Accuracy: 0.94\n",
            "ROC AUC: 0.95\n",
            "Classification Report:\n",
            "               precision    recall  f1-score   support\n",
            "\n",
            "           0       0.93      0.99      0.96       173\n",
            "           1       0.94      0.57      0.71        28\n",
            "\n",
            "    accuracy                           0.94       201\n",
            "   macro avg       0.94      0.78      0.84       201\n",
            "weighted avg       0.94      0.94      0.93       201\n",
            "\n",
            "\n",
            "==================================================\n",
            "\n",
            "Results for internet_service_churn:\n",
            "\n",
            "Accuracy: 0.94\n",
            "ROC AUC: 0.98\n",
            "Classification Report:\n",
            "               precision    recall  f1-score   support\n",
            "\n",
            "           0       0.93      0.95      0.94      9795\n",
            "           1       0.96      0.94      0.95     11888\n",
            "\n",
            "    accuracy                           0.94     21683\n",
            "   macro avg       0.94      0.94      0.94     21683\n",
            "weighted avg       0.94      0.94      0.94     21683\n",
            "\n",
            "\n",
            "==================================================\n",
            "\n",
            "Results for bank_churn:\n",
            "\n",
            "Accuracy: 0.87\n",
            "ROC AUC: 0.86\n",
            "Classification Report:\n",
            "               precision    recall  f1-score   support\n",
            "\n",
            "           0       0.88      0.97      0.92      2416\n",
            "           1       0.78      0.46      0.58       584\n",
            "\n",
            "    accuracy                           0.87      3000\n",
            "   macro avg       0.83      0.71      0.75      3000\n",
            "weighted avg       0.86      0.87      0.86      3000\n",
            "\n",
            "\n",
            "==================================================\n",
            "\n"
          ]
        }
      ]
    },
    {
      "cell_type": "code",
      "source": [],
      "metadata": {
        "id": "4KyshWl2heYS"
      },
      "execution_count": null,
      "outputs": []
    },
    {
      "cell_type": "code",
      "source": [],
      "metadata": {
        "id": "uJV2WYeIiHku"
      },
      "execution_count": null,
      "outputs": []
    },
    {
      "cell_type": "code",
      "source": [
        "!pip install fastapi"
      ],
      "metadata": {
        "colab": {
          "base_uri": "https://localhost:8080/"
        },
        "id": "6JTmoOf_iHnT",
        "outputId": "3e1ab7dd-d3a2-4f25-b12b-5a5f421c2779"
      },
      "execution_count": 38,
      "outputs": [
        {
          "output_type": "stream",
          "name": "stdout",
          "text": [
            "Collecting fastapi\n",
            "  Downloading fastapi-0.115.0-py3-none-any.whl.metadata (27 kB)\n",
            "Collecting starlette<0.39.0,>=0.37.2 (from fastapi)\n",
            "  Downloading starlette-0.38.5-py3-none-any.whl.metadata (6.0 kB)\n",
            "Requirement already satisfied: pydantic!=1.8,!=1.8.1,!=2.0.0,!=2.0.1,!=2.1.0,<3.0.0,>=1.7.4 in /usr/local/lib/python3.10/dist-packages (from fastapi) (2.9.1)\n",
            "Requirement already satisfied: typing-extensions>=4.8.0 in /usr/local/lib/python3.10/dist-packages (from fastapi) (4.12.2)\n",
            "Requirement already satisfied: annotated-types>=0.6.0 in /usr/local/lib/python3.10/dist-packages (from pydantic!=1.8,!=1.8.1,!=2.0.0,!=2.0.1,!=2.1.0,<3.0.0,>=1.7.4->fastapi) (0.7.0)\n",
            "Requirement already satisfied: pydantic-core==2.23.3 in /usr/local/lib/python3.10/dist-packages (from pydantic!=1.8,!=1.8.1,!=2.0.0,!=2.0.1,!=2.1.0,<3.0.0,>=1.7.4->fastapi) (2.23.3)\n",
            "Requirement already satisfied: anyio<5,>=3.4.0 in /usr/local/lib/python3.10/dist-packages (from starlette<0.39.0,>=0.37.2->fastapi) (3.7.1)\n",
            "Requirement already satisfied: idna>=2.8 in /usr/local/lib/python3.10/dist-packages (from anyio<5,>=3.4.0->starlette<0.39.0,>=0.37.2->fastapi) (3.10)\n",
            "Requirement already satisfied: sniffio>=1.1 in /usr/local/lib/python3.10/dist-packages (from anyio<5,>=3.4.0->starlette<0.39.0,>=0.37.2->fastapi) (1.3.1)\n",
            "Requirement already satisfied: exceptiongroup in /usr/local/lib/python3.10/dist-packages (from anyio<5,>=3.4.0->starlette<0.39.0,>=0.37.2->fastapi) (1.2.2)\n",
            "Downloading fastapi-0.115.0-py3-none-any.whl (94 kB)\n",
            "\u001b[2K   \u001b[90m━━━━━━━━━━━━━━━━━━━━━━━━━━━━━━━━━━━━━━━━\u001b[0m \u001b[32m94.6/94.6 kB\u001b[0m \u001b[31m4.0 MB/s\u001b[0m eta \u001b[36m0:00:00\u001b[0m\n",
            "\u001b[?25hDownloading starlette-0.38.5-py3-none-any.whl (71 kB)\n",
            "\u001b[2K   \u001b[90m━━━━━━━━━━━━━━━━━━━━━━━━━━━━━━━━━━━━━━━━\u001b[0m \u001b[32m71.4/71.4 kB\u001b[0m \u001b[31m4.0 MB/s\u001b[0m eta \u001b[36m0:00:00\u001b[0m\n",
            "\u001b[?25hInstalling collected packages: starlette, fastapi\n",
            "Successfully installed fastapi-0.115.0 starlette-0.38.5\n"
          ]
        }
      ]
    },
    {
      "cell_type": "code",
      "source": [
        "!pip install lime"
      ],
      "metadata": {
        "colab": {
          "base_uri": "https://localhost:8080/"
        },
        "id": "foxpMZPQiQ-b",
        "outputId": "53f088f9-12a4-4f3a-d912-3bf0d45da71f"
      },
      "execution_count": 40,
      "outputs": [
        {
          "output_type": "stream",
          "name": "stdout",
          "text": [
            "Collecting lime\n",
            "  Downloading lime-0.2.0.1.tar.gz (275 kB)\n",
            "\u001b[?25l     \u001b[90m━━━━━━━━━━━━━━━━━━━━━━━━━━━━━━━━━━━━━━━━\u001b[0m \u001b[32m0.0/275.7 kB\u001b[0m \u001b[31m?\u001b[0m eta \u001b[36m-:--:--\u001b[0m\r\u001b[2K     \u001b[91m━━━━━━━━━━━━━━━━━━━━━━━━━━━━━\u001b[0m\u001b[91m╸\u001b[0m\u001b[90m━━━━━━━━━━\u001b[0m \u001b[32m204.8/275.7 kB\u001b[0m \u001b[31m6.5 MB/s\u001b[0m eta \u001b[36m0:00:01\u001b[0m\r\u001b[2K     \u001b[90m━━━━━━━━━━━━━━━━━━━━━━━━━━━━━━━━━━━━━━━━\u001b[0m \u001b[32m275.7/275.7 kB\u001b[0m \u001b[31m4.9 MB/s\u001b[0m eta \u001b[36m0:00:00\u001b[0m\n",
            "\u001b[?25h  Preparing metadata (setup.py) ... \u001b[?25l\u001b[?25hdone\n",
            "Requirement already satisfied: matplotlib in /usr/local/lib/python3.10/dist-packages (from lime) (3.7.1)\n",
            "Requirement already satisfied: numpy in /usr/local/lib/python3.10/dist-packages (from lime) (1.26.4)\n",
            "Requirement already satisfied: scipy in /usr/local/lib/python3.10/dist-packages (from lime) (1.13.1)\n",
            "Requirement already satisfied: tqdm in /usr/local/lib/python3.10/dist-packages (from lime) (4.66.5)\n",
            "Requirement already satisfied: scikit-learn>=0.18 in /usr/local/lib/python3.10/dist-packages (from lime) (1.3.2)\n",
            "Requirement already satisfied: scikit-image>=0.12 in /usr/local/lib/python3.10/dist-packages (from lime) (0.23.2)\n",
            "Requirement already satisfied: networkx>=2.8 in /usr/local/lib/python3.10/dist-packages (from scikit-image>=0.12->lime) (3.3)\n",
            "Requirement already satisfied: pillow>=9.1 in /usr/local/lib/python3.10/dist-packages (from scikit-image>=0.12->lime) (10.4.0)\n",
            "Requirement already satisfied: imageio>=2.33 in /usr/local/lib/python3.10/dist-packages (from scikit-image>=0.12->lime) (2.35.1)\n",
            "Requirement already satisfied: tifffile>=2022.8.12 in /usr/local/lib/python3.10/dist-packages (from scikit-image>=0.12->lime) (2024.8.30)\n",
            "Requirement already satisfied: packaging>=21 in /usr/local/lib/python3.10/dist-packages (from scikit-image>=0.12->lime) (24.1)\n",
            "Requirement already satisfied: lazy-loader>=0.4 in /usr/local/lib/python3.10/dist-packages (from scikit-image>=0.12->lime) (0.4)\n",
            "Requirement already satisfied: joblib>=1.1.1 in /usr/local/lib/python3.10/dist-packages (from scikit-learn>=0.18->lime) (1.4.2)\n",
            "Requirement already satisfied: threadpoolctl>=2.0.0 in /usr/local/lib/python3.10/dist-packages (from scikit-learn>=0.18->lime) (3.5.0)\n",
            "Requirement already satisfied: contourpy>=1.0.1 in /usr/local/lib/python3.10/dist-packages (from matplotlib->lime) (1.3.0)\n",
            "Requirement already satisfied: cycler>=0.10 in /usr/local/lib/python3.10/dist-packages (from matplotlib->lime) (0.12.1)\n",
            "Requirement already satisfied: fonttools>=4.22.0 in /usr/local/lib/python3.10/dist-packages (from matplotlib->lime) (4.53.1)\n",
            "Requirement already satisfied: kiwisolver>=1.0.1 in /usr/local/lib/python3.10/dist-packages (from matplotlib->lime) (1.4.7)\n",
            "Requirement already satisfied: pyparsing>=2.3.1 in /usr/local/lib/python3.10/dist-packages (from matplotlib->lime) (3.1.4)\n",
            "Requirement already satisfied: python-dateutil>=2.7 in /usr/local/lib/python3.10/dist-packages (from matplotlib->lime) (2.8.2)\n",
            "Requirement already satisfied: six>=1.5 in /usr/local/lib/python3.10/dist-packages (from python-dateutil>=2.7->matplotlib->lime) (1.16.0)\n",
            "Building wheels for collected packages: lime\n",
            "  Building wheel for lime (setup.py) ... \u001b[?25l\u001b[?25hdone\n",
            "  Created wheel for lime: filename=lime-0.2.0.1-py3-none-any.whl size=283834 sha256=35c3aa8560dce95d42cd8af3937c3c70461116914a597c6baf052c4cbdd01711\n",
            "  Stored in directory: /root/.cache/pip/wheels/fd/a2/af/9ac0a1a85a27f314a06b39e1f492bee1547d52549a4606ed89\n",
            "Successfully built lime\n",
            "Installing collected packages: lime\n",
            "Successfully installed lime-0.2.0.1\n"
          ]
        }
      ]
    },
    {
      "cell_type": "code",
      "source": [
        "!pip install shap"
      ],
      "metadata": {
        "colab": {
          "base_uri": "https://localhost:8080/"
        },
        "id": "_eK8rCuZiUmr",
        "outputId": "08a4f215-b5df-40aa-b6be-4ef05056b953"
      },
      "execution_count": 42,
      "outputs": [
        {
          "output_type": "stream",
          "name": "stdout",
          "text": [
            "Collecting shap\n",
            "  Downloading shap-0.46.0-cp310-cp310-manylinux_2_12_x86_64.manylinux2010_x86_64.manylinux_2_17_x86_64.manylinux2014_x86_64.whl.metadata (24 kB)\n",
            "Requirement already satisfied: numpy in /usr/local/lib/python3.10/dist-packages (from shap) (1.26.4)\n",
            "Requirement already satisfied: scipy in /usr/local/lib/python3.10/dist-packages (from shap) (1.13.1)\n",
            "Requirement already satisfied: scikit-learn in /usr/local/lib/python3.10/dist-packages (from shap) (1.3.2)\n",
            "Requirement already satisfied: pandas in /usr/local/lib/python3.10/dist-packages (from shap) (2.1.4)\n",
            "Requirement already satisfied: tqdm>=4.27.0 in /usr/local/lib/python3.10/dist-packages (from shap) (4.66.5)\n",
            "Requirement already satisfied: packaging>20.9 in /usr/local/lib/python3.10/dist-packages (from shap) (24.1)\n",
            "Collecting slicer==0.0.8 (from shap)\n",
            "  Downloading slicer-0.0.8-py3-none-any.whl.metadata (4.0 kB)\n",
            "Requirement already satisfied: numba in /usr/local/lib/python3.10/dist-packages (from shap) (0.60.0)\n",
            "Requirement already satisfied: cloudpickle in /usr/local/lib/python3.10/dist-packages (from shap) (2.2.1)\n",
            "Requirement already satisfied: llvmlite<0.44,>=0.43.0dev0 in /usr/local/lib/python3.10/dist-packages (from numba->shap) (0.43.0)\n",
            "Requirement already satisfied: python-dateutil>=2.8.2 in /usr/local/lib/python3.10/dist-packages (from pandas->shap) (2.8.2)\n",
            "Requirement already satisfied: pytz>=2020.1 in /usr/local/lib/python3.10/dist-packages (from pandas->shap) (2024.2)\n",
            "Requirement already satisfied: tzdata>=2022.1 in /usr/local/lib/python3.10/dist-packages (from pandas->shap) (2024.1)\n",
            "Requirement already satisfied: joblib>=1.1.1 in /usr/local/lib/python3.10/dist-packages (from scikit-learn->shap) (1.4.2)\n",
            "Requirement already satisfied: threadpoolctl>=2.0.0 in /usr/local/lib/python3.10/dist-packages (from scikit-learn->shap) (3.5.0)\n",
            "Requirement already satisfied: six>=1.5 in /usr/local/lib/python3.10/dist-packages (from python-dateutil>=2.8.2->pandas->shap) (1.16.0)\n",
            "Downloading shap-0.46.0-cp310-cp310-manylinux_2_12_x86_64.manylinux2010_x86_64.manylinux_2_17_x86_64.manylinux2014_x86_64.whl (540 kB)\n",
            "\u001b[2K   \u001b[90m━━━━━━━━━━━━━━━━━━━━━━━━━━━━━━━━━━━━━━━━\u001b[0m \u001b[32m540.1/540.1 kB\u001b[0m \u001b[31m10.7 MB/s\u001b[0m eta \u001b[36m0:00:00\u001b[0m\n",
            "\u001b[?25hDownloading slicer-0.0.8-py3-none-any.whl (15 kB)\n",
            "Installing collected packages: slicer, shap\n",
            "Successfully installed shap-0.46.0 slicer-0.0.8\n"
          ]
        }
      ]
    },
    {
      "cell_type": "code",
      "source": [
        "import pandas as pd\n",
        "from fastapi import FastAPI, HTTPException\n",
        "from pydantic import BaseModel\n",
        "from sklearn.model_selection import train_test_split\n",
        "from sklearn.preprocessing import StandardScaler, LabelEncoder\n",
        "from sklearn.ensemble import RandomForestClassifier\n",
        "from sklearn.linear_model import LogisticRegression\n",
        "from xgboost import XGBClassifier\n",
        "from sklearn.metrics import classification_report, accuracy_score, roc_auc_score\n",
        "from lime.lime_tabular import LimeTabularExplainer\n",
        "import shap\n",
        "from sklearn.tree import DecisionTreeClassifier"
      ],
      "metadata": {
        "id": "C_0NtkJ1heeU"
      },
      "execution_count": 43,
      "outputs": []
    },
    {
      "cell_type": "code",
      "source": [
        "app = FastAPI()"
      ],
      "metadata": {
        "id": "sKqN5cy9gdlc"
      },
      "execution_count": 44,
      "outputs": []
    },
    {
      "cell_type": "code",
      "source": [
        "def preprocess_data(df, target_col):\n",
        "    \"\"\"\n",
        "    Preprocesses the data by handling missing values, encoding categorical variables,\n",
        "    and scaling numerical features.\n",
        "    \"\"\"\n",
        "    unnecessary_cols = ['rownumber', 'customerid', 'surname', 'id', 'number', 'state']\n",
        "    df = df.drop(columns=[col for col in unnecessary_cols if col in df.columns], errors='ignore')\n",
        "\n",
        "    # Fill missing values\n",
        "    df = df.fillna(df.median(numeric_only=True))\n",
        "\n",
        "    # Encode categorical variables\n",
        "    categorical_cols = df.select_dtypes(include=['object', 'category']).columns\n",
        "    for col in categorical_cols:\n",
        "        df[col] = LabelEncoder().fit_transform(df[col].astype(str))\n",
        "\n",
        "    # Split features and target\n",
        "    X = df.drop(columns=[target_col])\n",
        "    y = df[target_col]\n",
        "\n",
        "    # Scale features\n",
        "    scaler = StandardScaler()\n",
        "    X_scaled = scaler.fit_transform(X)\n",
        "\n",
        "    return X_scaled, y, X.columns, scaler\n"
      ],
      "metadata": {
        "id": "c6P1ObTbh8vk"
      },
      "execution_count": 83,
      "outputs": []
    },
    {
      "cell_type": "code",
      "source": [
        "file_paths = {\n",
        "    \"telecom_churn\": \"telecom_churn.csv\",\n",
        "    \"orange_telecom\": \"orange_telecom.csv\",\n",
        "    \"internet_service_churn\": \"internet_service_churn.csv\",\n",
        "    \"bank_churn\": \"Bank_churn.csv\"\n",
        "}"
      ],
      "metadata": {
        "id": "NOCC1yRyj4Yz"
      },
      "execution_count": 84,
      "outputs": []
    },
    {
      "cell_type": "code",
      "source": [
        "datasets = {\n",
        "    \"telecom_churn\": pd.read_csv(file_paths[\"telecom_churn\"]),\n",
        "    \"orange_telecom\": pd.read_csv(file_paths[\"orange_telecom\"]),\n",
        "    \"internet_service_churn\": pd.read_csv(file_paths[\"internet_service_churn\"]),\n",
        "    \"bank_churn\": pd.read_csv(file_paths[\"bank_churn\"])\n",
        "}"
      ],
      "metadata": {
        "id": "ZB8Yhzk9j_Vi"
      },
      "execution_count": 85,
      "outputs": []
    },
    {
      "cell_type": "code",
      "source": [
        "models = {}"
      ],
      "metadata": {
        "id": "T3Ro2azHkEza"
      },
      "execution_count": 86,
      "outputs": []
    },
    {
      "cell_type": "code",
      "source": [
        "for name, df in datasets.items():\n",
        "    X, y, feature_names, scaler = preprocess_data(df, 'churn')\n",
        "    X_train, X_test, y_train, y_test = train_test_split(X, y, test_size=0.3, random_state=42)\n",
        "\n",
        "    # Train multiple models\n",
        "    rf_model = RandomForestClassifier(random_state=42)\n",
        "    rf_model.fit(X_train, y_train)\n",
        "\n",
        "    lr_model = LogisticRegression(max_iter=1000, random_state=42)\n",
        "    lr_model.fit(X_train, y_train)\n",
        "\n",
        "    xgb_model = XGBClassifier(random_state=42)\n",
        "    xgb_model.fit(X_train, y_train)\n",
        "\n",
        "    # Store the models\n",
        "    models[name] = {\n",
        "        \"rf_model\": rf_model,\n",
        "        \"lr_model\": lr_model,\n",
        "        \"xgb_model\": xgb_model,\n",
        "        \"scaler\": scaler,\n",
        "        \"X_test\": X_test,\n",
        "        \"y_test\": y_test,\n",
        "        \"feature_names\": feature_names\n",
        "    }"
      ],
      "metadata": {
        "id": "5Mls1Ut7h81b"
      },
      "execution_count": 87,
      "outputs": []
    },
    {
      "cell_type": "code",
      "source": [
        "from pydantic import BaseModel, Field\n",
        "from typing import Dict, Union\n",
        "\n",
        "class ChurnPredictionInput(BaseModel):\n",
        "    dataset_name: str = Field(..., min_length=1)  # Ensure non-empty string\n",
        "    model_name: str = Field(..., pattern='^(rf_model|lr_model|xgb_model)$')  # Validate model names using 'pattern' instead of 'regex'\n",
        "    data: Dict[str, Union[int, float, str]]  # Allows for int, float, or string features"
      ],
      "metadata": {
        "colab": {
          "base_uri": "https://localhost:8080/"
        },
        "id": "fQ22NM1Sh84E",
        "outputId": "0f7ce105-cb7e-4797-912e-17b7526df7ee"
      },
      "execution_count": 91,
      "outputs": [
        {
          "output_type": "stream",
          "name": "stderr",
          "text": [
            "/usr/local/lib/python3.10/dist-packages/pydantic/_internal/_fields.py:132: UserWarning:\n",
            "\n",
            "Field \"model_name\" in ChurnPredictionInput has conflict with protected namespace \"model_\".\n",
            "\n",
            "You may be able to resolve this warning by setting `model_config['protected_namespaces'] = ()`.\n",
            "\n"
          ]
        }
      ]
    },
    {
      "cell_type": "code",
      "source": [
        "# FastAPI Endpoint for Prediction\n",
        "@app.post(\"/predict\")\n",
        "def predict(input_data: ChurnPredictionInput):\n",
        "    \"\"\"\n",
        "    Endpoint to predict churn based on input features.\n",
        "    \"\"\"\n",
        "    if input_data.dataset_name not in models:\n",
        "        raise HTTPException(status_code=404, detail=\"Dataset not found.\")\n",
        "\n",
        "    if input_data.model_name not in [\"rf_model\", \"lr_model\", \"xgb_model\"]:\n",
        "        raise HTTPException(status_code=400, detail=\"Model not found.\")\n",
        "\n",
        "    model_data = models[input_data.dataset_name]\n",
        "    model = model_data[input_data.model_name]\n",
        "    scaler = model_data[\"scaler\"]\n",
        "    feature_names = model_data[\"feature_names\"]\n",
        "\n",
        "    # Ensure the input data matches the feature names expected\n",
        "    input_df = pd.DataFrame([input_data.data], columns=feature_names)\n",
        "\n",
        "    # Scale the input data using the stored scaler\n",
        "    input_df_scaled = scaler.transform(input_df)\n",
        "\n",
        "    # Predict churn probability and class\n",
        "    prediction = model.predict(input_df_scaled)[0]\n",
        "    probability = model.predict_proba(input_df_scaled)[0][1]\n",
        "\n",
        "    return {\"prediction\": int(prediction), \"probability\": probability}"
      ],
      "metadata": {
        "id": "awr2qIx3h87N"
      },
      "execution_count": 92,
      "outputs": []
    },
    {
      "cell_type": "code",
      "source": [
        "# FastAPI Endpoint for Explainability\n",
        "@app.post(\"/explain\")\n",
        "def explain(input_data: ChurnPredictionInput):\n",
        "    \"\"\"\n",
        "    Endpoint to provide explanations for predictions using LIME and SHAP.\n",
        "    \"\"\"\n",
        "    if input_data.dataset_name not in models:\n",
        "        raise HTTPException(status_code=404, detail=\"Dataset not found.\")\n",
        "\n",
        "    if input_data.model_name not in [\"rf_model\", \"lr_model\", \"xgb_model\"]:\n",
        "        raise HTTPException(status_code=400, detail=\"Model not found.\")\n",
        "\n",
        "    model_data = models[input_data.dataset_name]\n",
        "    model = model_data[input_data.model_name]\n",
        "    X_test = model_data[\"X_test\"]\n",
        "    feature_names = model_data[\"feature_names\"]\n",
        "\n",
        "    # Use LIME for local explanations\n",
        "    explainer = LimeTabularExplainer(\n",
        "        X_test,\n",
        "        feature_names=feature_names,\n",
        "        class_names=['No Churn', 'Churn'],\n",
        "        mode='classification'\n",
        "    )\n",
        "    explanation = explainer.explain_instance(pd.Series(input_data.data).values, model.predict_proba)\n",
        "\n",
        "    # Use SHAP for global explanation\n",
        "    shap.initjs()\n",
        "    shap_explainer = shap.Explainer(model, X_test)\n",
        "    shap_values = shap_explainer(X_test)\n",
        "\n",
        "    # Surrogate Model - Decision Tree for global interpretability\n",
        "    surrogate_model = DecisionTreeClassifier(max_depth=3)\n",
        "    surrogate_model.fit(X_test, model.predict(X_test))\n",
        "\n",
        "    return {\n",
        "        \"lime_explanation\": explanation.as_list(),\n",
        "        \"shap_summary_plot\": \"Generated (SHAP Summary Plot - handle this separately)\",\n",
        "        \"surrogate_tree\": surrogate_model.tree_.__str__()  # Simplified tree representation\n",
        "    }"
      ],
      "metadata": {
        "id": "VfFgwUcRh89t"
      },
      "execution_count": 93,
      "outputs": []
    },
    {
      "cell_type": "code",
      "source": [
        "!pip install uvicorn"
      ],
      "metadata": {
        "colab": {
          "base_uri": "https://localhost:8080/"
        },
        "id": "y8a4msimkiO6",
        "outputId": "9b12c562-2b45-4307-c595-05f156af2a74"
      },
      "execution_count": 68,
      "outputs": [
        {
          "output_type": "stream",
          "name": "stdout",
          "text": [
            "Collecting uvicorn\n",
            "  Downloading uvicorn-0.30.6-py3-none-any.whl.metadata (6.6 kB)\n",
            "Requirement already satisfied: click>=7.0 in /usr/local/lib/python3.10/dist-packages (from uvicorn) (8.1.7)\n",
            "Collecting h11>=0.8 (from uvicorn)\n",
            "  Downloading h11-0.14.0-py3-none-any.whl.metadata (8.2 kB)\n",
            "Requirement already satisfied: typing-extensions>=4.0 in /usr/local/lib/python3.10/dist-packages (from uvicorn) (4.12.2)\n",
            "Downloading uvicorn-0.30.6-py3-none-any.whl (62 kB)\n",
            "\u001b[2K   \u001b[90m━━━━━━━━━━━━━━━━━━━━━━━━━━━━━━━━━━━━━━━━\u001b[0m \u001b[32m62.8/62.8 kB\u001b[0m \u001b[31m1.8 MB/s\u001b[0m eta \u001b[36m0:00:00\u001b[0m\n",
            "\u001b[?25hDownloading h11-0.14.0-py3-none-any.whl (58 kB)\n",
            "\u001b[2K   \u001b[90m━━━━━━━━━━━━━━━━━━━━━━━━━━━━━━━━━━━━━━━━\u001b[0m \u001b[32m58.3/58.3 kB\u001b[0m \u001b[31m3.3 MB/s\u001b[0m eta \u001b[36m0:00:00\u001b[0m\n",
            "\u001b[?25hInstalling collected packages: h11, uvicorn\n",
            "Successfully installed h11-0.14.0 uvicorn-0.30.6\n"
          ]
        }
      ]
    },
    {
      "cell_type": "code",
      "source": [
        "if __name__ == \"__main__\":\n",
        "    import uvicorn\n",
        "    import asyncio\n",
        "\n",
        "    # Use nest_asyncio to run the server within the existing event loop\n",
        "    import nest_asyncio\n",
        "    nest_asyncio.apply()\n",
        "\n",
        "    uvicorn.run(app, host=\"0.0.0.0\", port=8000)"
      ],
      "metadata": {
        "colab": {
          "base_uri": "https://localhost:8080/"
        },
        "id": "agnRJ0NAh9AV",
        "outputId": "d07b4192-fb0f-47e9-dd05-ac5ff6f88d6c"
      },
      "execution_count": null,
      "outputs": [
        {
          "output_type": "stream",
          "name": "stderr",
          "text": [
            "INFO:     Started server process [231]\n",
            "INFO:     Waiting for application startup.\n",
            "INFO:     Application startup complete.\n",
            "INFO:     Uvicorn running on http://0.0.0.0:8000 (Press CTRL+C to quit)\n"
          ]
        }
      ]
    },
    {
      "cell_type": "code",
      "source": [
        "!pip install uvicorn fastapi pyngrok\n"
      ],
      "metadata": {
        "colab": {
          "base_uri": "https://localhost:8080/"
        },
        "id": "DTuuNOp9h9C0",
        "outputId": "3d2d24f8-e0ff-40c7-a2f0-4b57de2ff3dd"
      },
      "execution_count": 95,
      "outputs": [
        {
          "output_type": "stream",
          "name": "stdout",
          "text": [
            "Requirement already satisfied: uvicorn in /usr/local/lib/python3.10/dist-packages (0.30.6)\n",
            "Requirement already satisfied: fastapi in /usr/local/lib/python3.10/dist-packages (0.115.0)\n",
            "Collecting pyngrok\n",
            "  Downloading pyngrok-7.2.0-py3-none-any.whl.metadata (7.4 kB)\n",
            "Requirement already satisfied: click>=7.0 in /usr/local/lib/python3.10/dist-packages (from uvicorn) (8.1.7)\n",
            "Requirement already satisfied: h11>=0.8 in /usr/local/lib/python3.10/dist-packages (from uvicorn) (0.14.0)\n",
            "Requirement already satisfied: typing-extensions>=4.0 in /usr/local/lib/python3.10/dist-packages (from uvicorn) (4.12.2)\n",
            "Requirement already satisfied: starlette<0.39.0,>=0.37.2 in /usr/local/lib/python3.10/dist-packages (from fastapi) (0.38.5)\n",
            "Requirement already satisfied: pydantic!=1.8,!=1.8.1,!=2.0.0,!=2.0.1,!=2.1.0,<3.0.0,>=1.7.4 in /usr/local/lib/python3.10/dist-packages (from fastapi) (2.9.1)\n",
            "Requirement already satisfied: PyYAML>=5.1 in /usr/local/lib/python3.10/dist-packages (from pyngrok) (6.0.2)\n",
            "Requirement already satisfied: annotated-types>=0.6.0 in /usr/local/lib/python3.10/dist-packages (from pydantic!=1.8,!=1.8.1,!=2.0.0,!=2.0.1,!=2.1.0,<3.0.0,>=1.7.4->fastapi) (0.7.0)\n",
            "Requirement already satisfied: pydantic-core==2.23.3 in /usr/local/lib/python3.10/dist-packages (from pydantic!=1.8,!=1.8.1,!=2.0.0,!=2.0.1,!=2.1.0,<3.0.0,>=1.7.4->fastapi) (2.23.3)\n",
            "Requirement already satisfied: anyio<5,>=3.4.0 in /usr/local/lib/python3.10/dist-packages (from starlette<0.39.0,>=0.37.2->fastapi) (3.7.1)\n",
            "Requirement already satisfied: idna>=2.8 in /usr/local/lib/python3.10/dist-packages (from anyio<5,>=3.4.0->starlette<0.39.0,>=0.37.2->fastapi) (3.10)\n",
            "Requirement already satisfied: sniffio>=1.1 in /usr/local/lib/python3.10/dist-packages (from anyio<5,>=3.4.0->starlette<0.39.0,>=0.37.2->fastapi) (1.3.1)\n",
            "Requirement already satisfied: exceptiongroup in /usr/local/lib/python3.10/dist-packages (from anyio<5,>=3.4.0->starlette<0.39.0,>=0.37.2->fastapi) (1.2.2)\n",
            "Downloading pyngrok-7.2.0-py3-none-any.whl (22 kB)\n",
            "Installing collected packages: pyngrok\n",
            "Successfully installed pyngrok-7.2.0\n"
          ]
        }
      ]
    },
    {
      "cell_type": "code",
      "source": [
        "code = \"\"\"\n",
        "from fastapi import FastAPI, HTTPException\n",
        "from pydantic import BaseModel\n",
        "import pandas as pd\n",
        "import uvicorn\n",
        "from sklearn.preprocessing import StandardScaler, LabelEncoder\n",
        "from sklearn.model_selection import train_test_split\n",
        "from sklearn.ensemble import RandomForestClassifier\n",
        "from sklearn.metrics import classification_report\n",
        "from lime.lime_tabular import LimeTabularExplainer\n",
        "import shap\n",
        "from sklearn.tree import DecisionTreeClassifier\n",
        "from typing import Dict, Union\n",
        "\n",
        "app = FastAPI()\n",
        "\n",
        "# Your model training code here...\n",
        "\n",
        "# Define the input data model\n",
        "class ChurnPredictionInput(BaseModel):\n",
        "    dataset_name: str\n",
        "    model_name: str\n",
        "    data: dict\n",
        "\n",
        "@app.post(\"/predict\")\n",
        "def predict(input_data: ChurnPredictionInput):\n",
        "    # Your prediction code here...\n",
        "    pass\n",
        "\n",
        "@app.post(\"/explain\")\n",
        "def explain(input_data: ChurnPredictionInput):\n",
        "    # Your explanation code here...\n",
        "    pass\n",
        "\n",
        "if __name__ == \"__main__\":\n",
        "    import uvicorn\n",
        "    uvicorn.run(app, host=\"0.0.0.0\", port=8000)\n",
        "\"\"\"\n",
        "\n",
        "with open(\"app.py\", \"w\") as f:\n",
        "    f.write(code)\n"
      ],
      "metadata": {
        "id": "9YAQrt51sV33"
      },
      "execution_count": 96,
      "outputs": []
    },
    {
      "cell_type": "code",
      "source": [
        "!uvicorn app:app --host 0.0.0.0 --port 8000 --reload\n"
      ],
      "metadata": {
        "colab": {
          "base_uri": "https://localhost:8080/"
        },
        "id": "N_rPcMJJsZIQ",
        "outputId": "ba2bc063-fdba-45bc-cf64-03813705423c"
      },
      "execution_count": 97,
      "outputs": [
        {
          "output_type": "stream",
          "name": "stdout",
          "text": [
            "\u001b[32mINFO\u001b[0m:     Will watch for changes in these directories: ['/content']\n",
            "\u001b[32mINFO\u001b[0m:     Uvicorn running on \u001b[1mhttp://0.0.0.0:8000\u001b[0m (Press CTRL+C to quit)\n",
            "\u001b[32mINFO\u001b[0m:     Started reloader process [\u001b[36m\u001b[1m17981\u001b[0m] using \u001b[36m\u001b[1mStatReload\u001b[0m\n",
            "/usr/local/lib/python3.10/dist-packages/pydantic/_internal/_fields.py:132: UserWarning: Field \"model_name\" in ChurnPredictionInput has conflict with protected namespace \"model_\".\n",
            "\n",
            "You may be able to resolve this warning by setting `model_config['protected_namespaces'] = ()`.\n",
            "  warnings.warn(\n",
            "\u001b[32mINFO\u001b[0m:     Started server process [\u001b[36m17983\u001b[0m]\n",
            "\u001b[32mINFO\u001b[0m:     Waiting for application startup.\n",
            "\u001b[32mINFO\u001b[0m:     Application startup complete.\n",
            "\u001b[32mINFO\u001b[0m:     Shutting down\n",
            "\u001b[32mINFO\u001b[0m:     Waiting for application shutdown.\n",
            "\u001b[32mINFO\u001b[0m:     Application shutdown complete.\n",
            "\u001b[32mINFO\u001b[0m:     Finished server process [\u001b[36m17983\u001b[0m]\n",
            "\u001b[32mINFO\u001b[0m:     Stopping reloader process [\u001b[36m\u001b[1m17981\u001b[0m]\n"
          ]
        }
      ]
    },
    {
      "cell_type": "code",
      "source": [
        "!pip install pyngrok\n"
      ],
      "metadata": {
        "colab": {
          "base_uri": "https://localhost:8080/"
        },
        "id": "RpxzzK-Dsy6E",
        "outputId": "320a4a27-054c-4bf2-fd4f-450b747e58f4"
      },
      "execution_count": 99,
      "outputs": [
        {
          "output_type": "stream",
          "name": "stdout",
          "text": [
            "Requirement already satisfied: pyngrok in /usr/local/lib/python3.10/dist-packages (7.2.0)\n",
            "Requirement already satisfied: PyYAML>=5.1 in /usr/local/lib/python3.10/dist-packages (from pyngrok) (6.0.2)\n"
          ]
        }
      ]
    },
    {
      "cell_type": "code",
      "source": [
        "from pyngrok import ngrok\n",
        "\n",
        "ngrok.set_auth_token(\"2mHAO9RDan3kWDkWCU7N2Pk09YX_6VQy5wSs6gCbGE4ZVJgvg\")\n",
        "\n",
        "# Set up a tunnel to the FastAPI server\n",
        "# Use addr instead of port and specify the port number as part of the address string\n",
        "public_url = ngrok.connect(addr='localhost:8000')\n",
        "print(f\"Public URL: {public_url}\")"
      ],
      "metadata": {
        "colab": {
          "base_uri": "https://localhost:8080/"
        },
        "collapsed": true,
        "id": "uKMqlqK7sZuX",
        "outputId": "ee95bb48-b438-4f4e-a20b-dd35561bc5fe"
      },
      "execution_count": 105,
      "outputs": [
        {
          "output_type": "stream",
          "name": "stdout",
          "text": [
            "Public URL: NgrokTunnel: \"https://2537-35-196-129-43.ngrok-free.app\" -> \"http://localhost:8000\"\n"
          ]
        }
      ]
    },
    {
      "cell_type": "code",
      "source": [
        "curl -X POST \"http://example.ngrok.io/predict\" -H \"Content-Type: application/json\" -d '{\n",
        "  \"dataset_name\": \"telecom_churn\",\n",
        "  \"model_name\": \"rf_model\",\n",
        "  \"data\": {\"feature1\": value1, \"feature2\": value2}\n",
        "}'\n"
      ],
      "metadata": {
        "id": "DuTsC5kksenW"
      },
      "execution_count": null,
      "outputs": []
    }
  ]
}